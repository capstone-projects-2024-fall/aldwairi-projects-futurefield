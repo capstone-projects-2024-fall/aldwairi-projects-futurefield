{
  "cells": [
    {
      "cell_type": "markdown",
      "metadata": {
        "id": "VUiPS_iLwLjC"
      },
      "source": [
        "# Pitch type prediction"
      ]
    },
    {
      "cell_type": "markdown",
      "source": [
        "<p>Usefull links</p>\n",
        "<ul>\n",
        "  <li>https://www.kaggle.com/datasets/pschale/mlb-pitch-data-20152018/versions/17/data?select=games.csv</li>\n",
        "  <li>https://github.com/chrisjackson4256/MLBPitchPredictor/blob/master/pitchPredict2.ipynb</li>\n",
        "  <li>https://pypi.org/project/pybaseball/2.0.0/</li>\n",
        "  <li>https://pandas.pydata.org/docs/reference/api/pandas.DataFrame.to_csv.html</li>\n",
        "</ul>"
      ],
      "metadata": {
        "id": "21tKRwrlkfn0"
      }
    },
    {
      "cell_type": "code",
      "source": [
        "!pip install pybaseball\n",
        "!pip install duckdb\n",
        "!pip install lightgbm\n",
        "!pip install matplotlib"
      ],
      "metadata": {
        "collapsed": true,
        "id": "yeynrzvakMCy"
      },
      "execution_count": null,
      "outputs": []
    },
    {
      "cell_type": "code",
      "execution_count": null,
      "metadata": {
        "id": "AzrNytYdEfmq"
      },
      "outputs": [],
      "source": [
        "import pandas as pd\n",
        "import numpy as np\n",
        "from sklearn.preprocessing import LabelEncoder\n",
        "from sklearn.preprocessing import OneHotEncoder\n",
        "from sklearn.model_selection import train_test_split\n",
        "from sklearn.ensemble import RandomForestClassifier\n",
        "from sklearn.metrics import classification_report, accuracy_score\n",
        "import joblib\n",
        "import requests\n",
        "import duckdb\n",
        "import warnings\n",
        "warnings.filterwarnings(\"ignore\")\n",
        "import matplotlib.pyplot as plt\n",
        "import lightgbm as lgbm\n",
        "from pybaseball import statcast, pitching_stats\n",
        "import datetime as dt"
      ]
    },
    {
      "cell_type": "markdown",
      "metadata": {
        "id": "RhmoJdCNb3t8"
      },
      "source": [
        "### Loading data"
      ]
    },
    {
      "cell_type": "code",
      "execution_count": null,
      "metadata": {
        "colab": {
          "base_uri": "https://localhost:8080/"
        },
        "id": "n1y4T-PdEq9K",
        "outputId": "c0944b04-3f8a-4580-fd53-4a8d3001070c"
      },
      "outputs": [
        {
          "output_type": "stream",
          "name": "stdout",
          "text": [
            "Mounted at /content/drive\n"
          ]
        }
      ],
      "source": [
        "from google.colab import drive\n",
        "drive.mount('/content/drive')"
      ]
    },
    {
      "cell_type": "code",
      "execution_count": null,
      "metadata": {
        "colab": {
          "base_uri": "https://localhost:8080/"
        },
        "id": "bpzBS76qSoo1",
        "outputId": "4d00de63-a95e-41c9-e110-d912a73c3e30"
      },
      "outputs": [
        {
          "output_type": "stream",
          "name": "stderr",
          "text": [
            "100%|██████████| 589/589 [10:19<00:00,  1.05s/it]\n"
          ]
        }
      ],
      "source": [
        "raw_df = statcast(start_dt='2020-05-24', end_dt='2023-01-01', verbose = 0)"
      ]
    },
    {
      "cell_type": "code",
      "execution_count": null,
      "metadata": {
        "id": "6ub95crquKTn"
      },
      "outputs": [],
      "source": [
        "target = ['pitch_type']\n",
        "\n",
        "situation_features = ['stand', 'p_throws', 'inning', 'balls', 'strikes',\n",
        "                      'on_1b', 'on_2b', 'on_3b', 'outs_when_up', 'pitch_number',\n",
        "                      'fld_score', 'bat_score']\n",
        "\n",
        "id_columns = ['game_pk', 'pitcher', 'batter']\n",
        "\n",
        "prev_pitch_features = ['type', 'pfx_x', 'pfx_z', 'plate_x', 'plate_z', 'release_speed', 'release_spin_rate']\n",
        "\n",
        "data = raw_df[target + id_columns + situation_features + prev_pitch_features]\n",
        "data.to_csv(\"/content/drive/MyDrive/Capstone/data2020-2023.csv\")"
      ]
    },
    {
      "cell_type": "code",
      "execution_count": null,
      "metadata": {
        "id": "7R6G4CDGkyYg"
      },
      "outputs": [],
      "source": [
        "#Load data for ball prediction\n",
        "pitch_df = pd.read_csv('/content/drive/MyDrive/Capstone/archive/pitches.csv')\n",
        "atbat_df = pd.read_csv('/content/drive/MyDrive/Capstone/archive/atbats.csv')\n",
        "games_df = pd.read_csv('/content/drive/MyDrive/Capstone/archive/games.csv')\n",
        "players_df = pd.read_csv('/content/drive/MyDrive/Capstone/archive/player_names.csv')"
      ]
    },
    {
      "cell_type": "code",
      "source": [
        "#load data for game prediction\n",
        "data = pd.read_csv('/content/drive/MyDrive/Capstone/data2020-2023.csv')"
      ],
      "metadata": {
        "id": "ztjztfBNz9WI"
      },
      "execution_count": null,
      "outputs": []
    },
    {
      "cell_type": "markdown",
      "metadata": {
        "id": "OzXKZ2ktWTcg"
      },
      "source": [
        "### Data Cleaning"
      ]
    },
    {
      "cell_type": "code",
      "execution_count": null,
      "metadata": {
        "id": "CNdmEW9dWqoG"
      },
      "outputs": [],
      "source": [
        "data = data[pd.notnull(data['pitch_type'])]"
      ]
    },
    {
      "cell_type": "code",
      "execution_count": null,
      "metadata": {
        "id": "ZPRm5FvPwbsI"
      },
      "outputs": [],
      "source": [
        "fastball_pitches = ['FA', 'FF', 'FT', 'FC', 'FS', 'SI', 'SF']\n",
        "def map_fastballs(x):\n",
        "    if x in fastball_pitches:\n",
        "        return 1\n",
        "    else:\n",
        "        return 0\n",
        "data['pitch_type'] = data['pitch_type'].apply(map_fastballs)"
      ]
    },
    {
      "cell_type": "code",
      "execution_count": null,
      "metadata": {
        "id": "xoG81U8idYBM"
      },
      "outputs": [],
      "source": [
        "for col in id_columns:\n",
        "    data[col] = data[col].astype(int)\n",
        "\n",
        "# convert innings, balls and strikes to ints\n",
        "for col in ['inning', 'balls', 'strikes', 'outs_when_up', 'pitch_number']:\n",
        "    data[col] = data[col].astype(int)\n",
        "\n",
        "# if inning > 9, just replace with \"9\"\n",
        "def cap_extra_innings(x):\n",
        "    if x > 9:\n",
        "        return 9\n",
        "    else:\n",
        "        return x\n",
        "data['inning'] = data['inning'].apply(cap_extra_innings)\n",
        "\n",
        "# make a new id based on game id + pitcher id that we can use for groupby's\n",
        "data['game_pitcher_id'] = data['game_pk'].astype(str) + '_' + data['pitcher'].astype(str)\n",
        "\n",
        "# convert on_1b/on_2b/on_3b to boolean\n",
        "data['on_1b'] = data['on_1b'].apply(lambda x: not np.isnan(x))\n",
        "data['on_2b'] = data['on_2b'].apply(lambda x: not np.isnan(x))\n",
        "data['on_3b'] = data['on_3b'].apply(lambda x: not np.isnan(x))\n",
        "\n",
        "# handedness: does the batter hit from the same side that the pitcher is pitching from\n",
        "data['pitch_bat_same_side'] = data['p_throws'] == data['stand']\n",
        "data.drop(['p_throws', 'stand'], axis=1, inplace=True)\n",
        "\n",
        "# score differential\n",
        "data['score_diff'] = data['fld_score'] - data['bat_score']\n",
        "data.drop(['fld_score', 'bat_score'], axis=1, inplace=True)"
      ]
    },
    {
      "cell_type": "code",
      "execution_count": null,
      "metadata": {
        "id": "_0vLMegUZlLk"
      },
      "outputs": [],
      "source": [
        "data.dropna(inplace=True)\n",
        "data.drop(['game_pk', 'batter', 'game_pitcher_id'], axis=1, inplace=True)"
      ]
    },
    {
      "cell_type": "code",
      "source": [
        "data.info()"
      ],
      "metadata": {
        "colab": {
          "base_uri": "https://localhost:8080/"
        },
        "id": "ozuZBDhOok11",
        "outputId": "63519392-4459-4490-be63-b897bc8449ca"
      },
      "execution_count": null,
      "outputs": [
        {
          "output_type": "stream",
          "name": "stdout",
          "text": [
            "<class 'pandas.core.frame.DataFrame'>\n",
            "Index: 638190 entries, 2649 to 424\n",
            "Data columns (total 19 columns):\n",
            " #   Column               Non-Null Count   Dtype  \n",
            "---  ------               --------------   -----  \n",
            " 0   pitch_type           638190 non-null  int64  \n",
            " 1   pitcher              638190 non-null  int64  \n",
            " 2   inning               638190 non-null  int64  \n",
            " 3   balls                638190 non-null  int64  \n",
            " 4   strikes              638190 non-null  int64  \n",
            " 5   on_1b                638190 non-null  bool   \n",
            " 6   on_2b                638190 non-null  bool   \n",
            " 7   on_3b                638190 non-null  bool   \n",
            " 8   outs_when_up         638190 non-null  int64  \n",
            " 9   pitch_number         638190 non-null  int64  \n",
            " 10  type                 638190 non-null  object \n",
            " 11  pfx_x                638190 non-null  Float64\n",
            " 12  pfx_z                638190 non-null  Float64\n",
            " 13  plate_x              638190 non-null  Float64\n",
            " 14  plate_z              638190 non-null  Float64\n",
            " 15  release_speed        638190 non-null  Float64\n",
            " 16  release_spin_rate    638190 non-null  Int64  \n",
            " 17  pitch_bat_same_side  638190 non-null  bool   \n",
            " 18  score_diff           638190 non-null  Int64  \n",
            "dtypes: Float64(5), Int64(2), bool(4), int64(7), object(1)\n",
            "memory usage: 84.6+ MB\n"
          ]
        }
      ]
    },
    {
      "cell_type": "markdown",
      "metadata": {
        "id": "ms7pv3CnVv6v"
      },
      "source": [
        "### Random Forest Model Ball Stats"
      ]
    },
    {
      "cell_type": "code",
      "execution_count": null,
      "metadata": {
        "id": "9_j9UouLbn6R"
      },
      "outputs": [],
      "source": [
        "features = ['pitch_num', 'end_speed', 'start_speed',\n",
        "            'break_angle', 'break_length', 'break_y',\n",
        "            'pfx_x', 'pfx_z', 'spin_rate', 'spin_dir',\n",
        "            'b_count', 's_count', 'outs', 'on_1b',\n",
        "            'on_2b', 'on_3b', 'px', 'pz', 'zone', 'sz_bot', 'sz_top']\n",
        "\n",
        "target = 'pitch_type'"
      ]
    },
    {
      "cell_type": "code",
      "execution_count": null,
      "metadata": {
        "id": "QUqh1LTOcD75"
      },
      "outputs": [],
      "source": [
        "X = df[features]\n",
        "y = df[target]\n",
        "X_train, X_test, y_train, y_test = train_test_split(X, y, test_size=0.2, random_state=42)"
      ]
    },
    {
      "cell_type": "code",
      "execution_count": null,
      "metadata": {
        "colab": {
          "base_uri": "https://localhost:8080/"
        },
        "id": "aQ0P5tuvVrM5",
        "outputId": "cc929f7a-93df-4634-9b07-5159e28d673b"
      },
      "outputs": [
        {
          "name": "stdout",
          "output_type": "stream",
          "text": [
            "Accuracy: 0.7207\n",
            "\n",
            "Classification Report:\n",
            "               precision    recall  f1-score   support\n",
            "\n",
            "           1       0.74      0.81      0.77      2184\n",
            "           2       0.74      0.75      0.75      1334\n",
            "           3       1.00      0.33      0.50        12\n",
            "           5       0.59      0.48      0.53      1228\n",
            "           6       0.82      0.90      0.86      6860\n",
            "           7       0.00      0.00      0.00         4\n",
            "           8       0.28      0.01      0.03       335\n",
            "           9       0.55      0.55      0.55      2421\n",
            "          10       0.99      0.96      0.98       106\n",
            "          11       0.58      0.32      0.41       444\n",
            "          12       0.67      0.51      0.58        90\n",
            "          13       0.00      0.00      0.00         4\n",
            "          15       0.56      0.43      0.49      2066\n",
            "          16       0.71      0.81      0.76      2876\n",
            "          18       1.00      1.00      1.00        36\n",
            "\n",
            "    accuracy                           0.72     20000\n",
            "   macro avg       0.61      0.52      0.55     20000\n",
            "weighted avg       0.70      0.72      0.71     20000\n",
            "\n"
          ]
        }
      ],
      "source": [
        "model = RandomForestClassifier(n_estimators=100, random_state=42)\n",
        "model.fit(X_train, y_train)\n",
        "\n",
        "# Make predictions\n",
        "y_pred = model.predict(X_test)\n",
        "\n",
        "# Evaluate the model\n",
        "print(\"Accuracy:\", accuracy_score(y_test, y_pred))\n",
        "print(\"\\nClassification Report:\\n\", classification_report(y_test, y_pred))"
      ]
    },
    {
      "cell_type": "code",
      "execution_count": null,
      "metadata": {
        "colab": {
          "base_uri": "https://localhost:8080/"
        },
        "id": "pDoK5LV9ciFE",
        "outputId": "5490c984-5e51-4fb6-b909-efc098bd1343"
      },
      "outputs": [
        {
          "data": {
            "text/plain": [
              "['/content/drive/MyDrive/Capstone/random_forest_pitchtype_model.joblib']"
            ]
          },
          "execution_count": 73,
          "metadata": {},
          "output_type": "execute_result"
        }
      ],
      "source": [
        "#store model\n",
        "joblib.dump(model, '/content/drive/MyDrive/Capstone/random_forest_pitchtype_model.joblib')"
      ]
    },
    {
      "cell_type": "code",
      "execution_count": null,
      "metadata": {
        "id": "lyR3BMyGcmyw"
      },
      "outputs": [],
      "source": [
        "#load model\n",
        "loaded_model = joblib.load('/content/drive/MyDrive/Capstone/random_forest_pitchtype_model.joblib')"
      ]
    },
    {
      "cell_type": "markdown",
      "metadata": {
        "id": "8FAqOTwIMiQx"
      },
      "source": [
        "#### Testing"
      ]
    },
    {
      "cell_type": "code",
      "execution_count": null,
      "metadata": {
        "id": "_RkIEcitNA1x"
      },
      "outputs": [],
      "source": [
        "sample = loaded_model.predict()\n"
      ]
    },
    {
      "cell_type": "code",
      "execution_count": null,
      "metadata": {
        "colab": {
          "base_uri": "https://localhost:8080/"
        },
        "id": "evfLvRFJSyxV",
        "outputId": "3c5156f9-a67d-48a3-e58b-1e49f019efd3"
      },
      "outputs": [
        {
          "name": "stdout",
          "output_type": "stream",
          "text": [
            "{0: 'AB', 1: 'CH', 2: 'CU', 3: 'EP', 4: 'FA', 5: 'FC', 6: 'FF', 7: 'FO', 8: 'FS', 9: 'FT', 10: 'IN', 11: 'KC', 12: 'KN', 13: 'PO', 14: 'SC', 15: 'SI', 16: 'SL', 17: 'UN', 18: nan}\n"
          ]
        }
      ],
      "source": [
        "pitch_dict = {0: 'AB', 1: 'CH', 2: 'CU', 3: 'EP', 4: 'FA', 5: 'FC', 6: 'FF', 7: 'FO', 8: 'FS', 9: 'FT', 10: 'IN', 11: 'KC', 12: 'KN', 13: 'PO', 14: 'SC', 15: 'SI', 16: 'SL', 17: 'UN', 18: nan}}"
      ]
    },
    {
      "cell_type": "markdown",
      "metadata": {
        "id": "paKJR7AqazVW"
      },
      "source": [
        "## Random Forest Model Game Stats\n"
      ]
    },
    {
      "cell_type": "markdown",
      "source": [
        "<p>features used to predict:</p>\n",
        "<ul>\n",
        "<li>pitcher</li>\n",
        "<li>inning</li>\n",
        "<li>balls</li>\n",
        "<li>strikes</li>\n",
        "<li>on_1b</li>\n",
        "<li>on_2b</li>\n",
        "<li>on_3b</li>\n",
        "<li>outs_when_up</li>\n",
        "<li>pitch_number</li>\n",
        "<li>score_diff</li>\n",
        "<li>pitch_bat_same_side</li>\n",
        "</ul>\n",
        "\n",
        "<p>features available in MLB stats:</p>\n",
        "<ul>\n",
        "<li>innings</li>\n",
        "<li>p_throws as pitchesThrown</li>\n",
        "<li>strikes</li>\n",
        "<li>balls</li>\n",
        "<li>outs_when_up as outs(check for modifications)</li>\n",
        "</ul>\n",
        "\n",
        "<p>features NOT available in MLB stats:</p>\n",
        "<ul>\n",
        "<li>pitch_number</li>\n",
        "<li>on_1b</li>\n",
        "<li>on_2b</li>\n",
        "<li>on_3b</li>\n",
        "<li>score_diff</li>\n",
        "<li>pitch_bat_same_side</li>\n",
        "</ul>"
      ],
      "metadata": {
        "id": "o6DbihVsmtD3"
      }
    },
    {
      "cell_type": "code",
      "source": [
        "game_features = ['pitcher', 'inning', 'balls', 'strikes',\n",
        "                      'on_1b', 'on_2b', 'on_3b', 'outs_when_up', 'pitch_number', 'score_diff', 'pitch_bat_same_side']\n",
        "\n",
        "X = data[game_features]\n",
        "y = data['pitch_type']\n",
        "X_train, X_test, y_train, y_test = train_test_split(X, y, test_size=0.2, random_state=42)"
      ],
      "metadata": {
        "id": "AvNnVui0n420"
      },
      "execution_count": null,
      "outputs": []
    },
    {
      "cell_type": "code",
      "source": [
        "model = RandomForestClassifier(n_estimators=100, random_state=42)\n",
        "model.fit(X_train, y_train)\n",
        "\n",
        "# Make predictions\n",
        "y_pred = model.predict(X_test)\n",
        "\n",
        "# Evaluate the model\n",
        "print(\"Accuracy:\", accuracy_score(y_test, y_pred))\n",
        "print(\"\\nClassification Report:\\n\", classification_report(y_test, y_pred))"
      ],
      "metadata": {
        "colab": {
          "base_uri": "https://localhost:8080/"
        },
        "id": "qs6FqZpjpecJ",
        "outputId": "fa476761-ad72-42a7-d9cd-f2f6382ca859"
      },
      "execution_count": null,
      "outputs": [
        {
          "output_type": "stream",
          "name": "stdout",
          "text": [
            "Accuracy: 0.5657756768858434\n",
            "\n",
            "Classification Report:\n",
            "               precision    recall  f1-score   support\n",
            "\n",
            "           0       0.47      0.44      0.45    145552\n",
            "           1       0.62      0.65      0.64    207314\n",
            "\n",
            "    accuracy                           0.57    352866\n",
            "   macro avg       0.55      0.55      0.55    352866\n",
            "weighted avg       0.56      0.57      0.56    352866\n",
            "\n"
          ]
        }
      ]
    },
    {
      "cell_type": "code",
      "source": [
        "joblib.dump(model, '/content/drive/MyDrive/Capstone/pitchType_game_model.joblib')"
      ],
      "metadata": {
        "id": "-Md-Og7Pyuhi",
        "colab": {
          "base_uri": "https://localhost:8080/"
        },
        "outputId": "279b26c0-f084-49a1-fe61-76318617111e"
      },
      "execution_count": null,
      "outputs": [
        {
          "output_type": "execute_result",
          "data": {
            "text/plain": [
              "['/content/drive/MyDrive/Capstone/pitchType_game_model.joblib']"
            ]
          },
          "metadata": {},
          "execution_count": 13
        }
      ]
    },
    {
      "cell_type": "markdown",
      "metadata": {
        "id": "EstqykZqc1co"
      },
      "source": [
        "#### Testing"
      ]
    },
    {
      "cell_type": "code",
      "source": [
        "joblib.load('/content/drive/MyDrive/Capstone/pitchType_game_model.joblib')"
      ],
      "metadata": {
        "id": "lT99OUb34EQR"
      },
      "execution_count": null,
      "outputs": []
    },
    {
      "cell_type": "code",
      "source": [
        "data['pitch_type'].unique()"
      ],
      "metadata": {
        "colab": {
          "base_uri": "https://localhost:8080/"
        },
        "id": "ApNreyC6rNYh",
        "outputId": "939e534d-84b6-408e-bf86-1e4c4757316f"
      },
      "execution_count": null,
      "outputs": [
        {
          "output_type": "execute_result",
          "data": {
            "text/plain": [
              "array([0, 1])"
            ]
          },
          "metadata": {},
          "execution_count": 32
        }
      ]
    },
    {
      "cell_type": "code",
      "execution_count": null,
      "metadata": {
        "id": "thRYxO_4c3Hh",
        "colab": {
          "base_uri": "https://localhost:8080/"
        },
        "outputId": "59a5d58e-0a39-43b6-8caf-11e28c6268ac"
      },
      "outputs": [
        {
          "output_type": "stream",
          "name": "stdout",
          "text": [
            "1\n"
          ]
        }
      ],
      "source": [
        "#'pitcher', 'inning', 'balls', 'strikes', 'on_1b', 'on_2b', 'on_3b', 'outs_when_up', 'pitch_number', 'score_diff', 'pitch_bat_same_side'\n",
        "test_x = [[453343, 9, 1, 2, False, True, False, 2, 4, 1, False]]\n",
        "types = ['Break Ball', 'Fastball']\n",
        "print(types[model.predict(test_x)[0]])"
      ]
    },
    {
      "cell_type": "markdown",
      "source": [
        "## Gradiant Boost Model Game Stats  "
      ],
      "metadata": {
        "id": "WxFJO1Dy5jF0"
      }
    },
    {
      "cell_type": "code",
      "source": [
        "!pip install xgboost"
      ],
      "metadata": {
        "colab": {
          "base_uri": "https://localhost:8080/"
        },
        "id": "w7mfEKPf6FuV",
        "outputId": "64154111-9642-4d84-a62a-adae59f7b056"
      },
      "execution_count": null,
      "outputs": [
        {
          "output_type": "stream",
          "name": "stdout",
          "text": [
            "Requirement already satisfied: xgboost in /usr/local/lib/python3.10/dist-packages (2.1.2)\n",
            "Requirement already satisfied: numpy in /usr/local/lib/python3.10/dist-packages (from xgboost) (1.26.4)\n",
            "Requirement already satisfied: nvidia-nccl-cu12 in /usr/local/lib/python3.10/dist-packages (from xgboost) (2.23.4)\n",
            "Requirement already satisfied: scipy in /usr/local/lib/python3.10/dist-packages (from xgboost) (1.13.1)\n"
          ]
        }
      ]
    },
    {
      "cell_type": "code",
      "source": [
        "from xgboost import XGBClassifier"
      ],
      "metadata": {
        "id": "ggwiJRlx6EpR"
      },
      "execution_count": null,
      "outputs": []
    },
    {
      "cell_type": "code",
      "source": [
        "game_features = ['pitcher', 'inning', 'balls', 'strikes',\n",
        "                      'on_1b', 'on_2b', 'on_3b', 'outs_when_up', 'pitch_number', 'score_diff', 'pitch_bat_same_side']\n",
        "\n",
        "X = data[game_features]\n",
        "y = data['pitch_type']\n",
        "X_train, X_test, y_train, y_test = train_test_split(X, y, test_size=0.2, random_state=42)"
      ],
      "metadata": {
        "id": "g010Swq65rZS"
      },
      "execution_count": null,
      "outputs": []
    },
    {
      "cell_type": "code",
      "source": [
        "model = XGBClassifier(use_label_encoder=False, eval_metric='mlogloss')\n",
        "\n",
        "# Fit the model\n",
        "model.fit(X_train, y_train)\n",
        "\n",
        "# Make predictions\n",
        "y_pred = model.predict(X_test)\n",
        "\n",
        "# Evaluate the model\n",
        "accuracy = accuracy_score(y_test, y_pred)\n",
        "print(f'Accuracy: {accuracy:.2f}')\n",
        "print(classification_report(y_test, y_pred))"
      ],
      "metadata": {
        "colab": {
          "base_uri": "https://localhost:8080/"
        },
        "id": "dm3IOcXT5_ce",
        "outputId": "ec4b1d8a-66d3-44b8-8042-307bb4ae6701"
      },
      "execution_count": null,
      "outputs": [
        {
          "output_type": "stream",
          "name": "stdout",
          "text": [
            "Accuracy: 0.62\n",
            "              precision    recall  f1-score   support\n",
            "\n",
            "           0       0.57      0.35      0.43     72681\n",
            "           1       0.64      0.81      0.72    103752\n",
            "\n",
            "    accuracy                           0.62    176433\n",
            "   macro avg       0.61      0.58      0.58    176433\n",
            "weighted avg       0.61      0.62      0.60    176433\n",
            "\n"
          ]
        }
      ]
    },
    {
      "cell_type": "markdown",
      "source": [
        "### Fine tuning"
      ],
      "metadata": {
        "id": "ODaS-dw6A2sk"
      }
    },
    {
      "cell_type": "code",
      "source": [
        "from sklearn.model_selection import GridSearchCV\n",
        "\n",
        "# Define the parameter grid\n",
        "param_grid = {\n",
        "    'n_estimators': [100, 200],           # Testing different numbers of trees\n",
        "    'max_depth': [3, 5, 7],               # Testing different tree depths\n",
        "    'learning_rate': [0.01, 0.1, 0.2]     # Testing different learning rates\n",
        "}\n",
        "\n",
        "# Initialize GridSearchCV\n",
        "grid_search = GridSearchCV(\n",
        "    XGBClassifier(use_label_encoder=False, eval_metric='mlogloss'),  # Your model\n",
        "    param_grid,  # The parameter grid\n",
        "    cv=3,        # Number of cross-validation folds\n",
        "    scoring='accuracy'  # Scoring metric\n",
        ")\n",
        "\n",
        "# Fit the grid search model\n",
        "grid_search.fit(X_train, y_train)\n",
        "\n",
        "print(f'Best parameters: {grid_search.best_params_}')\n",
        "print(f'Best cross-validated accuracy: {grid_search.best_score_:.2f}')"
      ],
      "metadata": {
        "id": "EdyQWYI0A2DQ",
        "colab": {
          "base_uri": "https://localhost:8080/"
        },
        "outputId": "b3d2bbff-23d5-4ae1-d833-972a9c02a14f"
      },
      "execution_count": null,
      "outputs": [
        {
          "output_type": "stream",
          "name": "stdout",
          "text": [
            "Best parameters: {'learning_rate': 0.2, 'max_depth': 7, 'n_estimators': 200}\n",
            "Best cross-validated accuracy: 0.62\n"
          ]
        }
      ]
    },
    {
      "cell_type": "code",
      "source": [
        "best_model = grid_search.best_estimator_"
      ],
      "metadata": {
        "id": "NTtJ6180B3W-"
      },
      "execution_count": null,
      "outputs": []
    },
    {
      "cell_type": "code",
      "source": [
        "joblib.dump(best_model, '/content/drive/MyDrive/Capstone/pitchType_game_GBM.joblib')"
      ],
      "metadata": {
        "colab": {
          "base_uri": "https://localhost:8080/"
        },
        "id": "I-bgA4abAXCr",
        "outputId": "691266b2-836d-41e7-8d03-8434d616b3d8"
      },
      "execution_count": null,
      "outputs": [
        {
          "output_type": "execute_result",
          "data": {
            "text/plain": [
              "['/content/drive/MyDrive/Capstone/pitchType_game_GBM.joblib']"
            ]
          },
          "metadata": {},
          "execution_count": 33
        }
      ]
    },
    {
      "cell_type": "markdown",
      "source": [
        "### Testing"
      ],
      "metadata": {
        "id": "upj4c8L_A8TK"
      }
    },
    {
      "cell_type": "code",
      "source": [
        "data.head(1)"
      ],
      "metadata": {
        "colab": {
          "base_uri": "https://localhost:8080/",
          "height": 118
        },
        "id": "6S_zRlkaHKe_",
        "outputId": "3ee5b19e-2b2c-4a05-8256-98163b286220"
      },
      "execution_count": null,
      "outputs": [
        {
          "output_type": "execute_result",
          "data": {
            "text/plain": [
              "   Unnamed: 0  pitch_type  pitcher  inning  balls  strikes  on_1b  on_2b  \\\n",
              "0         191           0   519151       9      0        0   True  False   \n",
              "\n",
              "   on_3b  outs_when_up  pitch_number type  pfx_x  pfx_z  plate_x  plate_z  \\\n",
              "0  False             2             1    X   0.41   0.37     1.05     2.39   \n",
              "\n",
              "   release_speed  release_spin_rate  pitch_bat_same_side  score_diff  \n",
              "0           89.2             2679.0                 True           3  "
            ],
            "text/html": [
              "\n",
              "  <div id=\"df-fc20e2c1-81d5-48af-bfa6-3fa5deebf3ed\" class=\"colab-df-container\">\n",
              "    <div>\n",
              "<style scoped>\n",
              "    .dataframe tbody tr th:only-of-type {\n",
              "        vertical-align: middle;\n",
              "    }\n",
              "\n",
              "    .dataframe tbody tr th {\n",
              "        vertical-align: top;\n",
              "    }\n",
              "\n",
              "    .dataframe thead th {\n",
              "        text-align: right;\n",
              "    }\n",
              "</style>\n",
              "<table border=\"1\" class=\"dataframe\">\n",
              "  <thead>\n",
              "    <tr style=\"text-align: right;\">\n",
              "      <th></th>\n",
              "      <th>Unnamed: 0</th>\n",
              "      <th>pitch_type</th>\n",
              "      <th>pitcher</th>\n",
              "      <th>inning</th>\n",
              "      <th>balls</th>\n",
              "      <th>strikes</th>\n",
              "      <th>on_1b</th>\n",
              "      <th>on_2b</th>\n",
              "      <th>on_3b</th>\n",
              "      <th>outs_when_up</th>\n",
              "      <th>pitch_number</th>\n",
              "      <th>type</th>\n",
              "      <th>pfx_x</th>\n",
              "      <th>pfx_z</th>\n",
              "      <th>plate_x</th>\n",
              "      <th>plate_z</th>\n",
              "      <th>release_speed</th>\n",
              "      <th>release_spin_rate</th>\n",
              "      <th>pitch_bat_same_side</th>\n",
              "      <th>score_diff</th>\n",
              "    </tr>\n",
              "  </thead>\n",
              "  <tbody>\n",
              "    <tr>\n",
              "      <th>0</th>\n",
              "      <td>191</td>\n",
              "      <td>0</td>\n",
              "      <td>519151</td>\n",
              "      <td>9</td>\n",
              "      <td>0</td>\n",
              "      <td>0</td>\n",
              "      <td>True</td>\n",
              "      <td>False</td>\n",
              "      <td>False</td>\n",
              "      <td>2</td>\n",
              "      <td>1</td>\n",
              "      <td>X</td>\n",
              "      <td>0.41</td>\n",
              "      <td>0.37</td>\n",
              "      <td>1.05</td>\n",
              "      <td>2.39</td>\n",
              "      <td>89.2</td>\n",
              "      <td>2679.0</td>\n",
              "      <td>True</td>\n",
              "      <td>3</td>\n",
              "    </tr>\n",
              "  </tbody>\n",
              "</table>\n",
              "</div>\n",
              "    <div class=\"colab-df-buttons\">\n",
              "\n",
              "  <div class=\"colab-df-container\">\n",
              "    <button class=\"colab-df-convert\" onclick=\"convertToInteractive('df-fc20e2c1-81d5-48af-bfa6-3fa5deebf3ed')\"\n",
              "            title=\"Convert this dataframe to an interactive table.\"\n",
              "            style=\"display:none;\">\n",
              "\n",
              "  <svg xmlns=\"http://www.w3.org/2000/svg\" height=\"24px\" viewBox=\"0 -960 960 960\">\n",
              "    <path d=\"M120-120v-720h720v720H120Zm60-500h600v-160H180v160Zm220 220h160v-160H400v160Zm0 220h160v-160H400v160ZM180-400h160v-160H180v160Zm440 0h160v-160H620v160ZM180-180h160v-160H180v160Zm440 0h160v-160H620v160Z\"/>\n",
              "  </svg>\n",
              "    </button>\n",
              "\n",
              "  <style>\n",
              "    .colab-df-container {\n",
              "      display:flex;\n",
              "      gap: 12px;\n",
              "    }\n",
              "\n",
              "    .colab-df-convert {\n",
              "      background-color: #E8F0FE;\n",
              "      border: none;\n",
              "      border-radius: 50%;\n",
              "      cursor: pointer;\n",
              "      display: none;\n",
              "      fill: #1967D2;\n",
              "      height: 32px;\n",
              "      padding: 0 0 0 0;\n",
              "      width: 32px;\n",
              "    }\n",
              "\n",
              "    .colab-df-convert:hover {\n",
              "      background-color: #E2EBFA;\n",
              "      box-shadow: 0px 1px 2px rgba(60, 64, 67, 0.3), 0px 1px 3px 1px rgba(60, 64, 67, 0.15);\n",
              "      fill: #174EA6;\n",
              "    }\n",
              "\n",
              "    .colab-df-buttons div {\n",
              "      margin-bottom: 4px;\n",
              "    }\n",
              "\n",
              "    [theme=dark] .colab-df-convert {\n",
              "      background-color: #3B4455;\n",
              "      fill: #D2E3FC;\n",
              "    }\n",
              "\n",
              "    [theme=dark] .colab-df-convert:hover {\n",
              "      background-color: #434B5C;\n",
              "      box-shadow: 0px 1px 3px 1px rgba(0, 0, 0, 0.15);\n",
              "      filter: drop-shadow(0px 1px 2px rgba(0, 0, 0, 0.3));\n",
              "      fill: #FFFFFF;\n",
              "    }\n",
              "  </style>\n",
              "\n",
              "    <script>\n",
              "      const buttonEl =\n",
              "        document.querySelector('#df-fc20e2c1-81d5-48af-bfa6-3fa5deebf3ed button.colab-df-convert');\n",
              "      buttonEl.style.display =\n",
              "        google.colab.kernel.accessAllowed ? 'block' : 'none';\n",
              "\n",
              "      async function convertToInteractive(key) {\n",
              "        const element = document.querySelector('#df-fc20e2c1-81d5-48af-bfa6-3fa5deebf3ed');\n",
              "        const dataTable =\n",
              "          await google.colab.kernel.invokeFunction('convertToInteractive',\n",
              "                                                    [key], {});\n",
              "        if (!dataTable) return;\n",
              "\n",
              "        const docLinkHtml = 'Like what you see? Visit the ' +\n",
              "          '<a target=\"_blank\" href=https://colab.research.google.com/notebooks/data_table.ipynb>data table notebook</a>'\n",
              "          + ' to learn more about interactive tables.';\n",
              "        element.innerHTML = '';\n",
              "        dataTable['output_type'] = 'display_data';\n",
              "        await google.colab.output.renderOutput(dataTable, element);\n",
              "        const docLink = document.createElement('div');\n",
              "        docLink.innerHTML = docLinkHtml;\n",
              "        element.appendChild(docLink);\n",
              "      }\n",
              "    </script>\n",
              "  </div>\n",
              "\n",
              "\n",
              "    </div>\n",
              "  </div>\n"
            ],
            "application/vnd.google.colaboratory.intrinsic+json": {
              "type": "dataframe",
              "variable_name": "data"
            }
          },
          "metadata": {},
          "execution_count": 35
        }
      ]
    },
    {
      "cell_type": "code",
      "source": [
        "#'pitcher', 'inning', 'balls', 'strikes', 'on_1b', 'on_2b', 'on_3b', 'outs_when_up', 'pitch_number', 'score_diff', 'pitch_bat_same_side'\n",
        "test_x = [[519151, 9, 0, 0, True, False, False, 2, 1, 3, True]]\n",
        "types = ['Break Ball', 'Fastball']\n",
        "print(types[model.predict(test_x)[0]])"
      ],
      "metadata": {
        "id": "x7f2xLO2A_5y",
        "colab": {
          "base_uri": "https://localhost:8080/"
        },
        "outputId": "9b9a1caa-771a-4d5a-d58e-2738746e8c73"
      },
      "execution_count": null,
      "outputs": [
        {
          "output_type": "stream",
          "name": "stdout",
          "text": [
            "Break Ball\n"
          ]
        }
      ]
    },
    {
      "cell_type": "markdown",
      "source": [
        "## Random Forest API model"
      ],
      "metadata": {
        "id": "jpzHgkEMK9Fk"
      }
    },
    {
      "cell_type": "markdown",
      "source": [
        "features available in MLB stats:\n",
        "<ul>\n",
        "<li>innings</li>\n",
        "<li>p_throws as pitchesThrown</li>\n",
        "<li>strikes</li>\n",
        "<li>balls</li>\n",
        "<li>outs_when_up as outs(check for modifications)</li>\n",
        "<ul>"
      ],
      "metadata": {
        "id": "Aujepi4xNyc9"
      }
    },
    {
      "cell_type": "code",
      "source": [
        "data = pd.read_csv('/content/drive/MyDrive/Capstone/data2020-2023.csv')"
      ],
      "metadata": {
        "id": "f0mDlAoQLA7L"
      },
      "execution_count": null,
      "outputs": []
    },
    {
      "cell_type": "code",
      "source": [
        "data = data[pd.notnull(data['pitch_type'])]\n",
        "fastball_pitches = ['FA', 'FF', 'FT', 'FC', 'FS', 'SI', 'SF']\n",
        "def map_fastballs(x):\n",
        "    if x in fastball_pitches:\n",
        "        return 1\n",
        "    else:\n",
        "        return 0\n",
        "data['pitch_type'] = data['pitch_type'].apply(map_fastballs)\n",
        "\n",
        "def cap_extra_innings(x):\n",
        "    if x > 9:\n",
        "        return 9\n",
        "    else:\n",
        "        return x\n",
        "data['inning'] = data['inning'].apply(cap_extra_innings)\n",
        "data.dropna(inplace=True)\n",
        "data['score_diff'] = data['fld_score'] - data['bat_score']"
      ],
      "metadata": {
        "id": "pHklRH3vMRBs"
      },
      "execution_count": null,
      "outputs": []
    },
    {
      "cell_type": "code",
      "source": [
        "data.info()"
      ],
      "metadata": {
        "colab": {
          "base_uri": "https://localhost:8080/"
        },
        "collapsed": true,
        "id": "QaaWCCZuNmxE",
        "outputId": "817b70f9-0108-42cb-ebdc-4dfe2c5b20d3"
      },
      "execution_count": null,
      "outputs": [
        {
          "output_type": "stream",
          "name": "stdout",
          "text": [
            "<class 'pandas.core.frame.DataFrame'>\n",
            "Index: 41680 entries, 499 to 1816331\n",
            "Data columns (total 24 columns):\n",
            " #   Column             Non-Null Count  Dtype  \n",
            "---  ------             --------------  -----  \n",
            " 0   Unnamed: 0         41680 non-null  int64  \n",
            " 1   pitch_type         41680 non-null  int64  \n",
            " 2   game_pk            41680 non-null  int64  \n",
            " 3   pitcher            41680 non-null  int64  \n",
            " 4   batter             41680 non-null  int64  \n",
            " 5   stand              41680 non-null  object \n",
            " 6   p_throws           41680 non-null  float64\n",
            " 7   inning             41680 non-null  int64  \n",
            " 8   balls              41680 non-null  int64  \n",
            " 9   strikes            41680 non-null  int64  \n",
            " 10  on_1b              41680 non-null  float64\n",
            " 11  on_2b              41680 non-null  float64\n",
            " 12  on_3b              41680 non-null  float64\n",
            " 13  outs_when_up       41680 non-null  int64  \n",
            " 14  pitch_number       41680 non-null  int64  \n",
            " 15  fld_score          41680 non-null  int64  \n",
            " 16  bat_score          41680 non-null  int64  \n",
            " 17  type               41680 non-null  object \n",
            " 18  pfx_x              41680 non-null  float64\n",
            " 19  pfx_z              41680 non-null  float64\n",
            " 20  plate_x            41680 non-null  float64\n",
            " 21  plate_z            41680 non-null  float64\n",
            " 22  release_speed      41680 non-null  float64\n",
            " 23  release_spin_rate  41680 non-null  float64\n",
            "dtypes: float64(10), int64(12), object(2)\n",
            "memory usage: 7.9+ MB\n"
          ]
        }
      ]
    },
    {
      "cell_type": "code",
      "source": [
        "features = ['inning', 'p_throws', 'strikes', 'balls', 'outs_when_up',]\n",
        "target = 'pitch_type'"
      ],
      "metadata": {
        "id": "erKH2olZLHmK"
      },
      "execution_count": null,
      "outputs": []
    },
    {
      "cell_type": "code",
      "source": [
        "data['p_throws'] = OneHotEncoder(sparse_output=False).fit_transform(data[['p_throws']])"
      ],
      "metadata": {
        "id": "6Vta-u7TOZ7r"
      },
      "execution_count": null,
      "outputs": []
    },
    {
      "cell_type": "code",
      "source": [
        "X = data[features]\n",
        "y = data[target]\n",
        "X_train, X_test, y_train, y_test = train_test_split(X, y, test_size=0.2, random_state=42)"
      ],
      "metadata": {
        "id": "3yvShhqaOQuH"
      },
      "execution_count": null,
      "outputs": []
    },
    {
      "cell_type": "code",
      "source": [
        "#model\n",
        "model = RandomForestClassifier(n_estimators=100, random_state=42)\n",
        "model.fit(X_train, y_train)\n",
        "\n",
        "# Make predictions\n",
        "y_pred = model.predict(X_test)\n",
        "\n",
        "# Evaluate the model\n",
        "print(\"Accuracy:\", accuracy_score(y_test, y_pred))\n",
        "print(\"\\nClassification Report:\\n\", classification_report(y_test, y_pred))"
      ],
      "metadata": {
        "colab": {
          "base_uri": "https://localhost:8080/"
        },
        "id": "3qfaaxsYNJUT",
        "outputId": "538b471e-4906-4f52-99a1-c3bdff9269e0"
      },
      "execution_count": null,
      "outputs": [
        {
          "output_type": "stream",
          "name": "stdout",
          "text": [
            "Accuracy: 0.5886516314779271\n",
            "\n",
            "Classification Report:\n",
            "               precision    recall  f1-score   support\n",
            "\n",
            "           0       0.47      0.15      0.22      3368\n",
            "           1       0.61      0.89      0.72      4968\n",
            "\n",
            "    accuracy                           0.59      8336\n",
            "   macro avg       0.54      0.52      0.47      8336\n",
            "weighted avg       0.55      0.59      0.52      8336\n",
            "\n"
          ]
        }
      ]
    },
    {
      "cell_type": "code",
      "source": [
        "joblib.dump(model, '/content/drive/MyDrive/Capstone/pitchType_API_RandomForrest.joblib')"
      ],
      "metadata": {
        "colab": {
          "base_uri": "https://localhost:8080/"
        },
        "id": "eH8OE3QkNJgt",
        "outputId": "0c49a9db-4dc6-4b5a-dd75-e0bfe8dd5c7f"
      },
      "execution_count": null,
      "outputs": [
        {
          "output_type": "execute_result",
          "data": {
            "text/plain": [
              "['/content/drive/MyDrive/Capstone/pitchType_API_RandomForrest.joblib']"
            ]
          },
          "metadata": {},
          "execution_count": 17
        }
      ]
    },
    {
      "cell_type": "markdown",
      "source": [
        "### Testing\n",
        "<p>TODO:</p>\n",
        "<ol>\n",
        "<li>Pip install libraries (loading data)</li>\n",
        "<li>Import Libraries</li>\n",
        "<li>Mount Drive</li>\n",
        "<li>Load Model</li>\n",
        "<li>Test!</li>\n",
        "</ol>\n"
      ],
      "metadata": {
        "id": "tV_aVeB64gud"
      }
    },
    {
      "cell_type": "code",
      "source": [
        "test_model = joblib.load('/content/drive/MyDrive/Capstone/pitchType_API_RandomForrest.joblib')"
      ],
      "metadata": {
        "id": "pC_cAWm44imi"
      },
      "execution_count": null,
      "outputs": []
    },
    {
      "cell_type": "code",
      "source": [
        "test_cases = [\n",
        "    {\"inning\": 2, \"p_throws\": 1, \"strikes\": 1, \"balls\": 2, \"outs_when_up\": 1},\n",
        "    {\"inning\": 8, \"p_throws\": 1, \"strikes\": 2, \"balls\": 1, \"outs_when_up\": 1,},\n",
        "    {\"inning\": 7, \"p_throws\": 0, \"strikes\": 2, \"balls\": 3, \"outs_when_up\": 2},\n",
        "    {\"inning\": 1, \"p_throws\": 1, \"strikes\": 0, \"balls\": 1, \"outs_when_up\": 0},\n",
        "    {\"inning\": 4, \"p_throws\": 0, \"strikes\": 2, \"balls\": 1, \"outs_when_up\": 2},\n",
        "    {\"inning\": 6, \"p_throws\": 0, \"strikes\": 1, \"balls\": 3, \"outs_when_up\": 1,}\n",
        "]\n",
        "\n",
        "real_cases = [\n",
        "    data.loc[(data['inning'] == 2) & (data['p_throws'] == 1) & (data['strikes'] == 1) & (data['balls'] == 2) & (data['outs_when_up'] == 1)],\n",
        "    data.loc[(data['inning'] == 8) & (data['p_throws'] == 1) & (data['strikes'] == 2) & (data['balls'] == 1) & (data['outs_when_up'] == 1)],\n",
        "    data.loc[(data['inning'] == 7) & (data['p_throws'] == 0) & (data['strikes'] == 2) & (data['balls'] == 3) & (data['outs_when_up'] == 2)],\n",
        "    data.loc[(data['inning'] == 1) & (data['p_throws'] == 1) & (data['strikes'] == 0) & (data['balls'] == 1) & (data['outs_when_up'] == 0)],\n",
        "    data.loc[(data['inning'] == 4) & (data['p_throws'] == 0) & (data['strikes'] == 2) & (data['balls'] == 1) & (data['outs_when_up'] == 2)],\n",
        "    data.loc[(data['inning'] == 6) & (data['p_throws'] == 0) & (data['strikes'] == 1) & (data['balls'] == 3) & (data['outs_when_up'] == 1)],\n",
        "]\n",
        "\n",
        "labels = ['Early Inning, Few Strikes and Balls',\n",
        "'Late Inning, Bases Loaded',\n",
        "'Close Game, High Pressure',\n",
        "'Early Game, Favorable Count',\n",
        "'Middle Inning, 2 Outs, Ahead in the Count',\n",
        "'Middle Inning, High Ball Count',\n",
        "]\n",
        "\n",
        "#print(real_cases[0]['pitch_type'])\n",
        "\n",
        "predictions = []\n",
        "types = ['Break Ball', 'Fastball']\n",
        "\n",
        "for case in test_cases:\n",
        "    X_testing = pd.DataFrame([case])\n",
        "    pred = model.predict(X_testing)\n",
        "    predictions.append(types[pred[0]])\n",
        "\n",
        "for i in range(len(predictions)):\n",
        "  fastball_sum = sum(real_cases[i]['pitch_type'] == 1)\n",
        "  breakball_sum = sum(real_cases[i]['pitch_type'] == 0)\n",
        "  pitch_sum = fastball_sum + breakball_sum\n",
        "  if pitch_sum == 0:\n",
        "    print(\"**Scenario doesn't exist**\")\n",
        "    continue\n",
        "  print(f\"Scenario: {labels[i]}\\nPrediction: {predictions[i]}; Fastball%:{fastball_sum/pitch_sum:.3f}; Breakball%:{breakball_sum/pitch_sum:.3f}\")"
      ],
      "metadata": {
        "colab": {
          "base_uri": "https://localhost:8080/"
        },
        "id": "ts7CeOLT5VVz",
        "outputId": "95c9626c-7c09-493b-b17d-e5e0210e4e4b"
      },
      "execution_count": null,
      "outputs": [
        {
          "output_type": "stream",
          "name": "stdout",
          "text": [
            "Scenario: Early Inning, Few Strikes and Balls\n",
            "Prediction: Fastball; Fastball%:0.612; Breakball%:0.388\n",
            "Scenario: Late Inning, Bases Loaded\n",
            "Prediction: Fastball; Fastball%:0.529; Breakball%:0.471\n",
            "Scenario: Close Game, High Pressure\n",
            "Prediction: Fastball; Fastball%:0.765; Breakball%:0.235\n",
            "Scenario: Early Game, Favorable Count\n",
            "Prediction: Fastball; Fastball%:0.594; Breakball%:0.406\n",
            "Scenario: Middle Inning, 2 Outs, Ahead in the Count\n",
            "Prediction: Break Ball; Fastball%:0.476; Breakball%:0.524\n",
            "Scenario: Middle Inning, High Ball Count\n",
            "Prediction: Fastball; Fastball%:0.917; Breakball%:0.083\n"
          ]
        }
      ]
    },
    {
      "cell_type": "markdown",
      "source": [
        "## Gradiant Boost API Model"
      ],
      "metadata": {
        "id": "IfdANerIdwbg"
      }
    },
    {
      "cell_type": "code",
      "source": [
        "from xgboost import XGBClassifier"
      ],
      "metadata": {
        "id": "i23MhNxvdwIP"
      },
      "execution_count": null,
      "outputs": []
    },
    {
      "cell_type": "code",
      "source": [
        "data = pd.read_csv('/content/drive/MyDrive/Capstone/data2020-2023.csv')"
      ],
      "metadata": {
        "id": "PqhPQVgyd2hb"
      },
      "execution_count": null,
      "outputs": []
    },
    {
      "cell_type": "code",
      "source": [
        "data = data[pd.notnull(data['pitch_type'])]\n",
        "fastball_pitches = ['FA', 'FF', 'FT', 'FC', 'FS', 'SI', 'SF']\n",
        "def map_fastballs(x):\n",
        "    if x in fastball_pitches:\n",
        "        return 1\n",
        "    else:\n",
        "        return 0\n",
        "data['pitch_type'] = data['pitch_type'].apply(map_fastballs)\n",
        "\n",
        "def cap_extra_innings(x):\n",
        "    if x > 9:\n",
        "        return 9\n",
        "    else:\n",
        "        return x\n",
        "data['inning'] = data['inning'].apply(cap_extra_innings)\n",
        "data.dropna(inplace=True)\n",
        "data['score_diff'] = data['fld_score'] - data['bat_score']\n",
        "data['p_throws'] = OneHotEncoder(sparse_output=False).fit_transform(data[['p_throws']])"
      ],
      "metadata": {
        "id": "xqOJOfPFeDTW"
      },
      "execution_count": null,
      "outputs": []
    },
    {
      "cell_type": "code",
      "source": [
        "features = ['inning', 'p_throws', 'strikes', 'balls', 'outs_when_up',]\n",
        "target = 'pitch_type'"
      ],
      "metadata": {
        "id": "rTKbXrqBd_h5"
      },
      "execution_count": null,
      "outputs": []
    },
    {
      "cell_type": "code",
      "source": [
        "X = data[features]\n",
        "y = data[target]\n",
        "X_train, X_test, y_train, y_test = train_test_split(X, y, test_size=0.2, random_state=42)"
      ],
      "metadata": {
        "id": "cYwhV2gdeImF"
      },
      "execution_count": null,
      "outputs": []
    },
    {
      "cell_type": "code",
      "source": [
        "model = XGBClassifier(use_label_encoder=False, eval_metric='mlogloss')\n",
        "\n",
        "# Fit the model\n",
        "model.fit(X_train, y_train)\n",
        "\n",
        "# Make predictions\n",
        "y_pred = model.predict(X_test)\n",
        "\n",
        "# Evaluate the model\n",
        "accuracy = accuracy_score(y_test, y_pred)\n",
        "print(f'Accuracy: {accuracy:.2f}')\n",
        "print(classification_report(y_test, y_pred))"
      ],
      "metadata": {
        "colab": {
          "base_uri": "https://localhost:8080/"
        },
        "id": "JAuc3xMXeMN9",
        "outputId": "c6814f37-4444-4044-ce36-ba5548430833"
      },
      "execution_count": null,
      "outputs": [
        {
          "output_type": "stream",
          "name": "stdout",
          "text": [
            "Accuracy: 0.59\n",
            "              precision    recall  f1-score   support\n",
            "\n",
            "           0       0.49      0.12      0.20      3368\n",
            "           1       0.61      0.91      0.73      4968\n",
            "\n",
            "    accuracy                           0.59      8336\n",
            "   macro avg       0.55      0.52      0.46      8336\n",
            "weighted avg       0.56      0.59      0.51      8336\n",
            "\n"
          ]
        }
      ]
    },
    {
      "cell_type": "code",
      "source": [
        "from sklearn.model_selection import GridSearchCV\n",
        "\n",
        "# Define the parameter grid\n",
        "param_grid = {\n",
        "    'n_estimators': [100, 200],           # Testing different numbers of trees\n",
        "    'max_depth': [3, 5, 7],               # Testing different tree depths\n",
        "    'learning_rate': [0.01, 0.1, 0.2]     # Testing different learning rates\n",
        "}\n",
        "\n",
        "# Initialize GridSearchCV\n",
        "grid_search = GridSearchCV(\n",
        "    XGBClassifier(use_label_encoder=False, eval_metric='mlogloss'),  # Your model\n",
        "    param_grid,  # The parameter grid\n",
        "    cv=3,        # Number of cross-validation folds\n",
        "    scoring='accuracy'  # Scoring metric\n",
        ")\n",
        "\n",
        "# Fit the grid search model\n",
        "grid_search.fit(X_train, y_train)\n",
        "\n",
        "print(f'Best parameters: {grid_search.best_params_}')\n",
        "print(f'Best cross-validated accuracy: {grid_search.best_score_:.2f}')"
      ],
      "metadata": {
        "colab": {
          "base_uri": "https://localhost:8080/"
        },
        "id": "d11R4xYQe6pj",
        "outputId": "dca14eaf-f742-4666-ee15-d3dbd646b18d"
      },
      "execution_count": null,
      "outputs": [
        {
          "output_type": "stream",
          "name": "stdout",
          "text": [
            "Best parameters: {'learning_rate': 0.1, 'max_depth': 3, 'n_estimators': 100}\n",
            "Best cross-validated accuracy: 0.59\n"
          ]
        }
      ]
    }
  ],
  "metadata": {
    "colab": {
      "provenance": [],
      "collapsed_sections": [
        "ms7pv3CnVv6v",
        "IfdANerIdwbg"
      ]
    },
    "kernelspec": {
      "display_name": "Python 3",
      "name": "python3"
    },
    "language_info": {
      "name": "python"
    }
  },
  "nbformat": 4,
  "nbformat_minor": 0
}