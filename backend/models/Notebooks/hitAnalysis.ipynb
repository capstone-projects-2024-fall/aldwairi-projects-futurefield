{
 "cells": [
  {
   "cell_type": "code",
   "execution_count": 1,
   "metadata": {},
   "outputs": [],
   "source": [
    "import pandas as pd\n",
    "import numpy as np\n",
    "from sklearn.preprocessing import LabelEncoder\n",
    "from sklearn.preprocessing import OneHotEncoder\n",
    "from sklearn.model_selection import train_test_split\n",
    "from sklearn.ensemble import RandomForestClassifier\n",
    "from sklearn.metrics import classification_report, accuracy_score\n",
    "import joblib\n",
    "import requests\n",
    "import duckdb\n",
    "import warnings\n",
    "warnings.filterwarnings(\"ignore\")\n",
    "import matplotlib.pyplot as plt\n",
    "import lightgbm as lgbm\n",
    "from pybaseball import statcast, pitching_stats\n",
    "import datetime as dt\n",
    "import seaborn as sns\n",
    "from sklearn.metrics import accuracy_score\n",
    "from sklearn.metrics import precision_score\n",
    "from sklearn.metrics import recall_score\n",
    "from sklearn.metrics import confusion_matrix\n",
    "from sklearn.model_selection import cross_val_score"
   ]
  },
  {
   "cell_type": "code",
   "execution_count": null,
   "metadata": {},
   "outputs": [
    {
     "name": "stderr",
     "output_type": "stream",
     "text": [
      "100%|██████████| 246/246 [01:55<00:00,  2.13it/s]\n"
     ]
    }
   ],
   "source": [
    "raw_data = statcast(start_dt='2023-04-01', end_dt='2023-10-01', verbose = 0)\n",
    "raw_data.to_csv('data2023-2023.csv')"
   ]
  },
  {
   "cell_type": "code",
   "execution_count": null,
   "metadata": {},
   "outputs": [],
   "source": [
    "raw_data = pd.read_csv('data2023-2023.csv', index_col=0)"
   ]
  },
  {
   "cell_type": "code",
   "execution_count": 4,
   "metadata": {},
   "outputs": [
    {
     "name": "stdout",
     "output_type": "stream",
     "text": [
      "['hit_into_out' 'hit' 'other' 'strikeout' 'walk']\n"
     ]
    }
   ],
   "source": [
    "prediction_columns = [\n",
    "    #'pitch_type',\n",
    "    'batter', \n",
    "    'pitcher',\n",
    "    'events',\n",
    "    'zone', \n",
    "    'stand', \n",
    "    'p_throws', \n",
    "    #'hit_location', \n",
    "    #'bb_type', \n",
    "    'balls',\n",
    "    'on_3b', \n",
    "    'on_2b', \n",
    "    'on_1b', \n",
    "    'outs_when_up'\n",
    "]\n",
    "\n",
    "hit_analysis_data = raw_data[prediction_columns]\n",
    "\n",
    "#Mapping events into 4 categories: hit, strikeout, hit into an out, walk\n",
    "\"\"\"print(hit_analysis_data['events'].unique())\n",
    "print(\"=\"*30)\"\"\"\n",
    "\n",
    "def event_mapping(event):\n",
    "    if event in ['single', 'double', 'triple', 'home_run']:\n",
    "        return 'hit'\n",
    "    elif event in ['strikeout', 'strikeout_double_play']:\n",
    "        return 'strikeout'\n",
    "    elif event in ['field_out', 'grounded_into_double_play']:\n",
    "        return 'hit_into_out'\n",
    "    elif event in ['walk', 'intent_walk']:\n",
    "        return 'walk'\n",
    "    else:\n",
    "        return 'other'\n",
    "\n",
    "hit_analysis_data['events'] = hit_analysis_data['events'].apply(event_mapping)\n",
    "\n",
    "\"\"\"print(hit_analysis_data['events'].unique())\n",
    "print(\"=\"*30)\"\"\"\n",
    "\n",
    "\n",
    "\n",
    "hit_analysis_data['on_1b'] = hit_analysis_data['on_1b'].fillna(0)\n",
    "hit_analysis_data['on_2b'] = hit_analysis_data['on_2b'].fillna(0)\n",
    "hit_analysis_data['on_3b'] = hit_analysis_data['on_3b'].fillna(0)\n",
    "hit_analysis_data['zone'] = hit_analysis_data['zone'].fillna(0)\n",
    "#hit_analysis_data['hit_location'] = hit_analysis_data['hit_location'].fillna(0)\n",
    "\n",
    "hit_analysis_data['on_1b'] = hit_analysis_data['on_1b'].astype(int)\n",
    "hit_analysis_data['on_2b'] = hit_analysis_data['on_2b'].astype(int)\n",
    "hit_analysis_data['on_3b'] = hit_analysis_data['on_3b'].astype(int)\n",
    "hit_analysis_data['zone'] = hit_analysis_data['zone'].astype(int)\n",
    "#hit_analysis_data['hit_location'] = hit_analysis_data['hit_location'].astype(int)\n",
    "\n",
    "hit_analysis_data.dropna(inplace=False)\n",
    "print(hit_analysis_data['events'].unique())\n",
    "\n",
    "label_encoder = LabelEncoder()\n",
    "#hit_analysis_data['pitch_type'] = LabelEncoder().fit_transform(hit_analysis_data['pitch_type'])\n",
    "hit_analysis_data['events'] = label_encoder.fit_transform(hit_analysis_data['events'])\n",
    "#hit_analysis_data['bb_type'] = LabelEncoder().fit_transform(hit_analysis_data['bb_type'])\n",
    "hit_analysis_data['p_throws'] = LabelEncoder().fit_transform(hit_analysis_data['p_throws'])\n",
    "hit_analysis_data['stand'] = LabelEncoder().fit_transform(hit_analysis_data['stand'])"
   ]
  },
  {
   "cell_type": "code",
   "execution_count": 5,
   "metadata": {},
   "outputs": [
    {
     "name": "stdout",
     "output_type": "stream",
     "text": [
      "<class 'pandas.core.frame.DataFrame'>\n",
      "Index: 773618 entries, 190 to 578\n",
      "Data columns (total 11 columns):\n",
      " #   Column        Non-Null Count   Dtype\n",
      "---  ------        --------------   -----\n",
      " 0   batter        773618 non-null  int64\n",
      " 1   pitcher       773618 non-null  int64\n",
      " 2   events        773618 non-null  int32\n",
      " 3   zone          773618 non-null  int32\n",
      " 4   stand         773618 non-null  int32\n",
      " 5   p_throws      773618 non-null  int32\n",
      " 6   balls         773618 non-null  int64\n",
      " 7   on_3b         773618 non-null  int32\n",
      " 8   on_2b         773618 non-null  int32\n",
      " 9   on_1b         773618 non-null  int32\n",
      " 10  outs_when_up  773618 non-null  int64\n",
      "dtypes: int32(7), int64(4)\n",
      "memory usage: 50.2 MB\n"
     ]
    },
    {
     "data": {
      "text/plain": [
       "batter          0\n",
       "pitcher         0\n",
       "events          0\n",
       "zone            0\n",
       "stand           0\n",
       "p_throws        0\n",
       "balls           0\n",
       "on_3b           0\n",
       "on_2b           0\n",
       "on_1b           0\n",
       "outs_when_up    0\n",
       "dtype: int64"
      ]
     },
     "execution_count": 5,
     "metadata": {},
     "output_type": "execute_result"
    }
   ],
   "source": [
    "hit_analysis_data.info()\n",
    "hit_analysis_data.isnull().sum()"
   ]
  },
  {
   "cell_type": "code",
   "execution_count": 12,
   "metadata": {},
   "outputs": [],
   "source": [
    "\"\"\"\n",
    "Feature Importances:\n",
    "batter: 0.312\n",
    "pitcher: 0.322\n",
    "zone: 0.103\n",
    "stand: 0.011\n",
    "p_throws: 0.014\n",
    "balls: 0.067\n",
    "on_3b: 0.022\n",
    "on_2b: 0.052\n",
    "on_1b: 0.069\n",
    "outs_when_up: 0.029\n",
    "\"\"\"\n",
    "features = ['batter', 'pitcher', 'zone',  'balls', 'on_3b', 'on_2b', 'on_1b'] # 'p_throws', 'outs_when_up', 'stand', \n",
    "target = 'events'\n",
    "\n",
    "X = hit_analysis_data[features]\n",
    "y = hit_analysis_data[target]\n",
    "\n",
    "X_train, X_test, y_train, y_test = train_test_split(X, y, test_size=0.2, random_state=42)\n",
    "model = RandomForestClassifier()\n",
    "model.fit(X_train, y_train)\n",
    "\n",
    "y_pred = model.predict(X_test)"
   ]
  },
  {
   "cell_type": "code",
   "execution_count": 13,
   "metadata": {},
   "outputs": [
    {
     "name": "stdout",
     "output_type": "stream",
     "text": [
      "Accuracy: 0.7167795558542954\n",
      "Macro Precision:0.35076970549871017, micro Precision: 0.7167795558542954\n",
      "Macro Recall:0.35076970549871017, micro Recall:0.7167795558542954\n",
      "Confusion Matrix:\n",
      " [[   241    757   7667     93    130]\n",
      " [   508   1405  14884    272    257]\n",
      " [  1779   4557 106465   2408    763]\n",
      " [   131    376   8166    239    433]\n",
      " [    13     60    455    112   2553]]\n",
      "Feature Importances:\n",
      "batter: 0.342\n",
      "pitcher: 0.354\n",
      "zone: 0.088\n",
      "balls: 0.068\n",
      "on_3b: 0.023\n",
      "on_2b: 0.055\n",
      "on_1b: 0.072\n",
      "F1 Score: 0.7167795558542954\n"
     ]
    }
   ],
   "source": [
    "from sklearn.metrics import f1_score\n",
    "# Calculate accuracy\n",
    "accuracy = accuracy_score(y_test, y_pred)\n",
    "print(\"Accuracy:\", accuracy)\n",
    "\n",
    "macro_precision = precision_score(y_test, y_pred, average='macro')\n",
    "micro_precision = precision_score(y_test, y_pred, average='micro')\n",
    "print(f\"Macro Precision:{macro_precision}, micro Precision: {micro_precision}\")\n",
    "\n",
    "macro_recall = recall_score(y_test, y_pred, average='macro')\n",
    "micro_recall = recall_score(y_test, y_pred, average='micro')\n",
    "print(f\"Macro Recall:{macro_precision}, micro Recall:{micro_precision}\")\n",
    "\n",
    "cm = confusion_matrix(y_test, y_pred)\n",
    "print(\"Confusion Matrix:\\n\", cm)\n",
    "\n",
    "feature_importances = model.feature_importances_\n",
    "print(\"Feature Importances:\")\n",
    "for feature, importance in zip(X.columns, feature_importances):\n",
    "    print(f\"{feature}: {importance:.3f}\")\n",
    "\n",
    "f1 = f1_score(y_test, y_pred, average='micro')\n",
    "print(\"F1 Score:\", f1)"
   ]
  },
  {
   "cell_type": "code",
   "execution_count": null,
   "metadata": {},
   "outputs": [
    {
     "data": {
      "text/plain": [
       "['hit_analysis_model.joblib']"
      ]
     },
     "execution_count": 16,
     "metadata": {},
     "output_type": "execute_result"
    }
   ],
   "source": [
    "joblib.dump(model, 'hit_analysis_model.joblib', compress='lzma')"
   ]
  },
  {
   "cell_type": "code",
   "execution_count": 17,
   "metadata": {},
   "outputs": [],
   "source": [
    "import pickle\n",
    "with open('hitAnalysismodel.pkl', 'wb') as f:\n",
    "    pickle.dump(model, f, protocol=4)"
   ]
  }
 ],
 "metadata": {
  "kernelspec": {
   "display_name": "Python 3",
   "language": "python",
   "name": "python3"
  },
  "language_info": {
   "codemirror_mode": {
    "name": "ipython",
    "version": 3
   },
   "file_extension": ".py",
   "mimetype": "text/x-python",
   "name": "python",
   "nbconvert_exporter": "python",
   "pygments_lexer": "ipython3",
   "version": "3.12.7"
  }
 },
 "nbformat": 4,
 "nbformat_minor": 2
}
